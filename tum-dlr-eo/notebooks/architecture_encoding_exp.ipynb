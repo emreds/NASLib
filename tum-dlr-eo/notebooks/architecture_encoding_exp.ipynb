{
 "cells": [
  {
   "cell_type": "code",
   "execution_count": 1,
   "metadata": {},
   "outputs": [
    {
     "name": "stdout",
     "output_type": "stream",
     "text": [
      "device: cpu\n",
      "device: cpu\n",
      "device: cpu\n",
      "device: cpu\n",
      "device: cpu\n",
      "device: cpu\n"
     ]
    }
   ],
   "source": [
    "import logging\n",
    "import sys\n",
    "\n",
    "from naslib.defaults.trainer import Trainer\n",
    "\n",
    "from naslib.search_spaces import (\n",
    "    DartsSearchSpace,\n",
    "    SimpleCellSearchSpace,\n",
    "    NasBench101SearchSpace,\n",
    "    HierarchicalSearchSpace,\n",
    ")\n",
    "from naslib.search_spaces.nasbench101 import graph\n",
    "\n",
    "from naslib.utils import get_dataset_api, setup_logger, utils\n",
    "\n",
    "import numpy as np"
   ]
  },
  {
   "cell_type": "markdown",
   "metadata": {},
   "source": [
    "### Defining the Dataset"
   ]
  },
  {
   "cell_type": "code",
   "execution_count": 2,
   "metadata": {},
   "outputs": [],
   "source": [
    "config = utils.get_config_from_args(config_type=\"nas\")"
   ]
  },
  {
   "cell_type": "code",
   "execution_count": 3,
   "metadata": {},
   "outputs": [
    {
     "name": "stdout",
     "output_type": "stream",
     "text": [
      "Loading dataset from file... This may take a few minutes...\n",
      "Loaded dataset in 4 seconds\n"
     ]
    }
   ],
   "source": [
    "dataset_api = get_dataset_api(config.search_space, config.dataset)"
   ]
  },
  {
   "cell_type": "markdown",
   "metadata": {},
   "source": [
    "### Encode Sampled Architectures"
   ]
  },
  {
   "cell_type": "code",
   "execution_count": 4,
   "metadata": {},
   "outputs": [],
   "source": [
    "INPUT = \"input\"\n",
    "OUTPUT = \"output\"\n",
    "CONV3X3 = \"conv3x3-bn-relu\"\n",
    "CONV1X1 = \"conv1x1-bn-relu\"\n",
    "MAXPOOL3X3 = \"maxpool3x3\"\n",
    "OPS = [CONV3X3, CONV1X1, MAXPOOL3X3]\n",
    "\n",
    "NUM_VERTICES = 7\n",
    "OP_SPOTS = NUM_VERTICES - 2\n",
    "MAX_EDGES = 9"
   ]
  },
  {
   "cell_type": "code",
   "execution_count": 5,
   "metadata": {},
   "outputs": [],
   "source": [
    "def sample_random_architecture(dataset_api, arch_limit=10):\n",
    "        \"\"\"\n",
    "        This will sample a random architecture and update the edges in the\n",
    "        naslib object accordingly.\n",
    "        From the NASBench repository:\n",
    "        one-hot adjacency matrix\n",
    "        draw [0,1] for each slot in the adjacency matrix\n",
    "        \"\"\"\n",
    "        architectures = []\n",
    "        while len(architectures) < arch_limit:\n",
    "            matrix = np.random.choice([0, 1], size=(NUM_VERTICES, NUM_VERTICES))\n",
    "            matrix = np.triu(matrix, 1)\n",
    "            ops = np.random.choice(OPS, size=NUM_VERTICES).tolist()\n",
    "            ops[0] = INPUT\n",
    "            ops[-1] = OUTPUT\n",
    "            spec = dataset_api[\"api\"].ModelSpec(matrix=matrix, ops=ops)\n",
    "            if dataset_api[\"nb101_data\"].is_valid(spec):\n",
    "                architectures.append({\"matrix\": matrix, \"ops\": ops})\n",
    "                #break\n",
    "        \n",
    "        return architectures\n",
    "            \n",
    "        #self.set_spec({\"matrix\": matrix, \"ops\": ops})"
   ]
  },
  {
   "cell_type": "markdown",
   "metadata": {},
   "source": [
    "### Sampling the architectures"
   ]
  },
  {
   "cell_type": "markdown",
   "metadata": {},
   "source": [
    "* Following functions are modified from: https://github.com/kalifou/fitness_landscape_analysis_NAS/blob/main/nasbench/nasbench/nasalg/landscape.py"
   ]
  },
  {
   "cell_type": "code",
   "execution_count": 6,
   "metadata": {},
   "outputs": [],
   "source": [
    "sampled_architectures = sample_random_architecture(dataset_api)"
   ]
  },
  {
   "cell_type": "code",
   "execution_count": 7,
   "metadata": {},
   "outputs": [],
   "source": [
    "MAX_NODES = 7\n",
    "MAX_EDGES = 9\n",
    "INPUT = 'input'\n",
    "OUTPUT = 'output'\n",
    "CONV1X1 = 'conv1x1-bn-relu'\n",
    "CONV3X3 = 'conv3x3-bn-relu'\n",
    "MAXPOOL3X3 = 'maxpool3x3'"
   ]
  },
  {
   "cell_type": "code",
   "execution_count": 8,
   "metadata": {},
   "outputs": [],
   "source": [
    "CODING = [INPUT]\n",
    "CODING = CODING + [CONV1X1 + \"_\" + str(i) for i in range(0, (MAX_NODES - 2))]\n",
    "CODING = CODING + [CONV3X3 + \"_\" + str(i) for i in range(0, (MAX_NODES - 2))]\n",
    "CODING = CODING + [MAXPOOL3X3 + \"_\" + str(i) for i in range(0, (MAX_NODES - 2))]\n",
    "CODING = CODING + [OUTPUT]"
   ]
  },
  {
   "cell_type": "code",
   "execution_count": 9,
   "metadata": {},
   "outputs": [],
   "source": [
    "def rename_ops(ops):\n",
    "    c1x1 = 0\n",
    "    c3x3 = 0\n",
    "    mp3x3 = 0\n",
    "    new_ops = []\n",
    "    for op in ops:\n",
    "        if op == CONV1X1:\n",
    "            new_ops = new_ops + [op + \"_\" + str(c1x1)]\n",
    "            c1x1 = c1x1 + 1\n",
    "        elif op == CONV3X3:\n",
    "            new_ops = new_ops + [op + \"_\" + str(c3x3)]\n",
    "            c3x3 = c3x3 + 1\n",
    "        elif op == MAXPOOL3X3:\n",
    "            new_ops = new_ops + [op + \"_\" + str(mp3x3)]\n",
    "            mp3x3 = mp3x3 + 1\n",
    "        else:\n",
    "            new_ops = new_ops + [op]\n",
    "    return new_ops"
   ]
  },
  {
   "cell_type": "code",
   "execution_count": 10,
   "metadata": {},
   "outputs": [],
   "source": [
    "def encode_matrix(adj_matrix, ops):\n",
    "    enc_matrix = np.zeros((len(CODING), len(CODING)))\n",
    "    pos = [CODING.index(op) for op in ops]\n",
    "    trans = dict()\n",
    "    for i, ix in enumerate(pos):\n",
    "        trans[i] = ix\n",
    "    i, j = np.nonzero(adj_matrix)\n",
    "    ix = [trans.get(n) for n in i]\n",
    "    jy = [trans.get(n) for n in j]\n",
    "    for p in zip(ix, jy):\n",
    "        enc_matrix[p] = 1\n",
    "    encoded = enc_matrix[np.triu_indices(len(CODING), k=1)]\n",
    "    return encoded.astype(int)"
   ]
  },
  {
   "cell_type": "code",
   "execution_count": 11,
   "metadata": {},
   "outputs": [],
   "source": [
    "def encode_solution(solution):\n",
    "    adj_matrix = solution['matrix'] # module adjacency\n",
    "    ops = rename_ops(solution['ops']) # module operations\n",
    "    encoded = encode_matrix(adj_matrix, ops)    \n",
    "    return encoded"
   ]
  },
  {
   "cell_type": "code",
   "execution_count": 12,
   "metadata": {},
   "outputs": [],
   "source": [
    "arch_1 = sampled_architectures[0]"
   ]
  },
  {
   "cell_type": "code",
   "execution_count": 13,
   "metadata": {},
   "outputs": [
    {
     "name": "stdout",
     "output_type": "stream",
     "text": [
      "{'matrix': array([[0, 1, 0, 1, 0, 1, 0],\n",
      "       [0, 0, 1, 1, 1, 1, 1],\n",
      "       [0, 0, 0, 0, 0, 1, 0],\n",
      "       [0, 0, 0, 0, 0, 0, 0],\n",
      "       [0, 0, 0, 0, 0, 1, 1],\n",
      "       [0, 0, 0, 0, 0, 0, 0],\n",
      "       [0, 0, 0, 0, 0, 0, 0]]), 'ops': ['input', 'conv3x3-bn-relu', 'conv3x3-bn-relu', 'conv1x1-bn-relu', 'conv1x1-bn-relu', 'conv1x1-bn-relu', 'output']}\n"
     ]
    }
   ],
   "source": [
    "print(arch_1)"
   ]
  },
  {
   "cell_type": "code",
   "execution_count": 14,
   "metadata": {},
   "outputs": [],
   "source": [
    "encoded_sampled_arcs = []"
   ]
  },
  {
   "cell_type": "code",
   "execution_count": 15,
   "metadata": {},
   "outputs": [],
   "source": [
    "for sampled_arc in sampled_architectures:\n",
    "    encoded_sampled_arcs.append(encode_solution(sampled_arc))"
   ]
  }
 ],
 "metadata": {
  "kernelspec": {
   "display_name": "Python 3 (ipykernel)",
   "language": "python",
   "name": "python3"
  },
  "language_info": {
   "codemirror_mode": {
    "name": "ipython",
    "version": 3
   },
   "file_extension": ".py",
   "mimetype": "text/x-python",
   "name": "python",
   "nbconvert_exporter": "python",
   "pygments_lexer": "ipython3",
   "version": "3.9.13"
  },
  "vscode": {
   "interpreter": {
    "hash": "dbaa411444fd0f6a0219be7247cafe8232f9ca19b314371503f22ac5d4b08631"
   }
  }
 },
 "nbformat": 4,
 "nbformat_minor": 2
}
